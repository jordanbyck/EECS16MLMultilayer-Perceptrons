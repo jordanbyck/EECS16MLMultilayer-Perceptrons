{
  "nbformat": 4,
  "nbformat_minor": 0,
  "metadata": {
    "colab": {
      "name": "Intro to MLP.ipynb",
      "provenance": [],
      "collapsed_sections": [],
      "toc_visible": true
    },
    "kernelspec": {
      "name": "python3",
      "display_name": "Python 3"
    }
  },
  "cells": [
    {
      "cell_type": "code",
      "metadata": {
        "id": "Q3uVJTWBMYfv"
      },
      "source": [
        "import numpy as np\n",
        "from sklearn.model_selection import train_test_split\n",
        "import sklearn as sk\n",
        "import pandas as pd\n",
        "import time"
      ],
      "execution_count": null,
      "outputs": []
    },
    {
      "cell_type": "markdown",
      "metadata": {
        "id": "2a2mBgEIC7Ra"
      },
      "source": [
        "#Intro to MLPs"
      ]
    },
    {
      "cell_type": "markdown",
      "metadata": {
        "id": "bHtT0RDHHSJA"
      },
      "source": [
        "Next up in Cal's educational mission of assuring our student body that they aren't just numbers, we will examine a dataset of high school students and model their entire livelihoods using Multi-Layer Perceptrons (MLPs)! In this assignment, we will understand the basic function of and intuition behind the MLP, including the form of inputs/outputs, the feedforward mechanism, its ability to perform classification, and the prebuilt industry-standard package `sklearn`. The dataset stored in `students` is from two high schools in Portugal with information on student grades in Math in addition to demographic, social and school related features. You can find the dataset [here](https://archive.ics.uci.edu/ml/datasets/Student+Performance).\n"
      ]
    },
    {
      "cell_type": "markdown",
      "metadata": {
        "id": "Exnue36_DlS8"
      },
      "source": [
        "##Question 1 - Data Preprocessing\n",
        "Let us first examine the features available to us and their types. "
      ]
    },
    {
      "cell_type": "code",
      "metadata": {
        "id": "sdvp1oQT_5aR",
        "colab": {
          "base_uri": "https://localhost:8080/",
          "height": 224
        },
        "outputId": "8dda9e7c-67a9-46de-a1ac-23e4e420c033"
      },
      "source": [
        "\n",
        "students = pd.read_csv(\"sample_data/student-mat.csv\", sep=\";\")\n",
        "students = students[students[\"G3\"] != 0]\n",
        "\n",
        "students.head()"
      ],
      "execution_count": null,
      "outputs": [
        {
          "output_type": "execute_result",
          "data": {
            "text/html": [
              "<div>\n",
              "<style scoped>\n",
              "    .dataframe tbody tr th:only-of-type {\n",
              "        vertical-align: middle;\n",
              "    }\n",
              "\n",
              "    .dataframe tbody tr th {\n",
              "        vertical-align: top;\n",
              "    }\n",
              "\n",
              "    .dataframe thead th {\n",
              "        text-align: right;\n",
              "    }\n",
              "</style>\n",
              "<table border=\"1\" class=\"dataframe\">\n",
              "  <thead>\n",
              "    <tr style=\"text-align: right;\">\n",
              "      <th></th>\n",
              "      <th>school</th>\n",
              "      <th>sex</th>\n",
              "      <th>age</th>\n",
              "      <th>address</th>\n",
              "      <th>famsize</th>\n",
              "      <th>Pstatus</th>\n",
              "      <th>Medu</th>\n",
              "      <th>Fedu</th>\n",
              "      <th>Mjob</th>\n",
              "      <th>Fjob</th>\n",
              "      <th>reason</th>\n",
              "      <th>guardian</th>\n",
              "      <th>traveltime</th>\n",
              "      <th>studytime</th>\n",
              "      <th>failures</th>\n",
              "      <th>schoolsup</th>\n",
              "      <th>famsup</th>\n",
              "      <th>paid</th>\n",
              "      <th>activities</th>\n",
              "      <th>nursery</th>\n",
              "      <th>higher</th>\n",
              "      <th>internet</th>\n",
              "      <th>romantic</th>\n",
              "      <th>famrel</th>\n",
              "      <th>freetime</th>\n",
              "      <th>goout</th>\n",
              "      <th>Dalc</th>\n",
              "      <th>Walc</th>\n",
              "      <th>health</th>\n",
              "      <th>absences</th>\n",
              "      <th>G1</th>\n",
              "      <th>G2</th>\n",
              "      <th>G3</th>\n",
              "    </tr>\n",
              "  </thead>\n",
              "  <tbody>\n",
              "    <tr>\n",
              "      <th>0</th>\n",
              "      <td>GP</td>\n",
              "      <td>F</td>\n",
              "      <td>18</td>\n",
              "      <td>U</td>\n",
              "      <td>GT3</td>\n",
              "      <td>A</td>\n",
              "      <td>4</td>\n",
              "      <td>4</td>\n",
              "      <td>at_home</td>\n",
              "      <td>teacher</td>\n",
              "      <td>course</td>\n",
              "      <td>mother</td>\n",
              "      <td>2</td>\n",
              "      <td>2</td>\n",
              "      <td>0</td>\n",
              "      <td>yes</td>\n",
              "      <td>no</td>\n",
              "      <td>no</td>\n",
              "      <td>no</td>\n",
              "      <td>yes</td>\n",
              "      <td>yes</td>\n",
              "      <td>no</td>\n",
              "      <td>no</td>\n",
              "      <td>4</td>\n",
              "      <td>3</td>\n",
              "      <td>4</td>\n",
              "      <td>1</td>\n",
              "      <td>1</td>\n",
              "      <td>3</td>\n",
              "      <td>6</td>\n",
              "      <td>5</td>\n",
              "      <td>6</td>\n",
              "      <td>6</td>\n",
              "    </tr>\n",
              "    <tr>\n",
              "      <th>1</th>\n",
              "      <td>GP</td>\n",
              "      <td>F</td>\n",
              "      <td>17</td>\n",
              "      <td>U</td>\n",
              "      <td>GT3</td>\n",
              "      <td>T</td>\n",
              "      <td>1</td>\n",
              "      <td>1</td>\n",
              "      <td>at_home</td>\n",
              "      <td>other</td>\n",
              "      <td>course</td>\n",
              "      <td>father</td>\n",
              "      <td>1</td>\n",
              "      <td>2</td>\n",
              "      <td>0</td>\n",
              "      <td>no</td>\n",
              "      <td>yes</td>\n",
              "      <td>no</td>\n",
              "      <td>no</td>\n",
              "      <td>no</td>\n",
              "      <td>yes</td>\n",
              "      <td>yes</td>\n",
              "      <td>no</td>\n",
              "      <td>5</td>\n",
              "      <td>3</td>\n",
              "      <td>3</td>\n",
              "      <td>1</td>\n",
              "      <td>1</td>\n",
              "      <td>3</td>\n",
              "      <td>4</td>\n",
              "      <td>5</td>\n",
              "      <td>5</td>\n",
              "      <td>6</td>\n",
              "    </tr>\n",
              "    <tr>\n",
              "      <th>2</th>\n",
              "      <td>GP</td>\n",
              "      <td>F</td>\n",
              "      <td>15</td>\n",
              "      <td>U</td>\n",
              "      <td>LE3</td>\n",
              "      <td>T</td>\n",
              "      <td>1</td>\n",
              "      <td>1</td>\n",
              "      <td>at_home</td>\n",
              "      <td>other</td>\n",
              "      <td>other</td>\n",
              "      <td>mother</td>\n",
              "      <td>1</td>\n",
              "      <td>2</td>\n",
              "      <td>3</td>\n",
              "      <td>yes</td>\n",
              "      <td>no</td>\n",
              "      <td>yes</td>\n",
              "      <td>no</td>\n",
              "      <td>yes</td>\n",
              "      <td>yes</td>\n",
              "      <td>yes</td>\n",
              "      <td>no</td>\n",
              "      <td>4</td>\n",
              "      <td>3</td>\n",
              "      <td>2</td>\n",
              "      <td>2</td>\n",
              "      <td>3</td>\n",
              "      <td>3</td>\n",
              "      <td>10</td>\n",
              "      <td>7</td>\n",
              "      <td>8</td>\n",
              "      <td>10</td>\n",
              "    </tr>\n",
              "    <tr>\n",
              "      <th>3</th>\n",
              "      <td>GP</td>\n",
              "      <td>F</td>\n",
              "      <td>15</td>\n",
              "      <td>U</td>\n",
              "      <td>GT3</td>\n",
              "      <td>T</td>\n",
              "      <td>4</td>\n",
              "      <td>2</td>\n",
              "      <td>health</td>\n",
              "      <td>services</td>\n",
              "      <td>home</td>\n",
              "      <td>mother</td>\n",
              "      <td>1</td>\n",
              "      <td>3</td>\n",
              "      <td>0</td>\n",
              "      <td>no</td>\n",
              "      <td>yes</td>\n",
              "      <td>yes</td>\n",
              "      <td>yes</td>\n",
              "      <td>yes</td>\n",
              "      <td>yes</td>\n",
              "      <td>yes</td>\n",
              "      <td>yes</td>\n",
              "      <td>3</td>\n",
              "      <td>2</td>\n",
              "      <td>2</td>\n",
              "      <td>1</td>\n",
              "      <td>1</td>\n",
              "      <td>5</td>\n",
              "      <td>2</td>\n",
              "      <td>15</td>\n",
              "      <td>14</td>\n",
              "      <td>15</td>\n",
              "    </tr>\n",
              "    <tr>\n",
              "      <th>4</th>\n",
              "      <td>GP</td>\n",
              "      <td>F</td>\n",
              "      <td>16</td>\n",
              "      <td>U</td>\n",
              "      <td>GT3</td>\n",
              "      <td>T</td>\n",
              "      <td>3</td>\n",
              "      <td>3</td>\n",
              "      <td>other</td>\n",
              "      <td>other</td>\n",
              "      <td>home</td>\n",
              "      <td>father</td>\n",
              "      <td>1</td>\n",
              "      <td>2</td>\n",
              "      <td>0</td>\n",
              "      <td>no</td>\n",
              "      <td>yes</td>\n",
              "      <td>yes</td>\n",
              "      <td>no</td>\n",
              "      <td>yes</td>\n",
              "      <td>yes</td>\n",
              "      <td>no</td>\n",
              "      <td>no</td>\n",
              "      <td>4</td>\n",
              "      <td>3</td>\n",
              "      <td>2</td>\n",
              "      <td>1</td>\n",
              "      <td>2</td>\n",
              "      <td>5</td>\n",
              "      <td>4</td>\n",
              "      <td>6</td>\n",
              "      <td>10</td>\n",
              "      <td>10</td>\n",
              "    </tr>\n",
              "  </tbody>\n",
              "</table>\n",
              "</div>"
            ],
            "text/plain": [
              "  school sex  age address famsize Pstatus  ...  Walc  health absences  G1  G2  G3\n",
              "0     GP   F   18       U     GT3       A  ...     1       3        6   5   6   6\n",
              "1     GP   F   17       U     GT3       T  ...     1       3        4   5   5   6\n",
              "2     GP   F   15       U     LE3       T  ...     3       3       10   7   8  10\n",
              "3     GP   F   15       U     GT3       T  ...     1       5        2  15  14  15\n",
              "4     GP   F   16       U     GT3       T  ...     2       5        4   6  10  10\n",
              "\n",
              "[5 rows x 33 columns]"
            ]
          },
          "metadata": {
            "tags": []
          },
          "execution_count": 51
        }
      ]
    },
    {
      "cell_type": "markdown",
      "metadata": {
        "id": "yKswTNZRBpIE"
      },
      "source": [
        "### Q1.1 One-hot Encoding\n",
        "As you can see the dataset contains a number of different columns, some being numeric and others being qualitative. However, because neural networks only take quantitative inputs, we will need all of the columns to be numeric. You will do this through a method called 'one hot encoding,' which involves taking qualitative columns with n different possible options and splitting them into n different columns. If the original column has a certain value, the value for that column will be \"1\" and the value in the other n-1 columns will be \"0\". **Modify the dataset so each of the qualitative columns are one-hot encoded by filling in the function `oneHotEncode`.** The one-hot encoded columns should be named following the convention \"originalColumnName_feature\" (eg. the `school` column should be split into `school_GP` and `school_MS` columns). Don't forget to drop the original column!"
      ]
    },
    {
      "cell_type": "code",
      "metadata": {
        "id": "P7Bsb1PhE7EN",
        "colab": {
          "base_uri": "https://localhost:8080/",
          "height": 130
        },
        "outputId": "0d94dcdc-d1b2-4458-ff56-e0822ddbde37"
      },
      "source": [
        "def oneHotEncode(df, colName):\n",
        "  \"\"\"Takes in a dataframe df and a column name colName for which there is categorical data. \n",
        "  Returns the new one-hot-encoded columns.\n",
        "  \"\"\"\n",
        "  \n",
        "  #TODO\n",
        "  unique = ...\n",
        "  for newCol in unique:\n",
        "    ...\n",
        "...\n",
        "  #END TODO\n",
        "\n",
        "  return df"
      ],
      "execution_count": 1,
      "outputs": [
        {
          "output_type": "error",
          "ename": "IndentationError",
          "evalue": "ignored",
          "traceback": [
            "\u001b[0;36m  File \u001b[0;32m\"<ipython-input-1-d6a881c78ce6>\"\u001b[0;36m, line \u001b[0;32m13\u001b[0m\n\u001b[0;31m    return df\u001b[0m\n\u001b[0m    ^\u001b[0m\n\u001b[0;31mIndentationError\u001b[0m\u001b[0;31m:\u001b[0m unexpected indent\n"
          ]
        }
      ]
    },
    {
      "cell_type": "markdown",
      "metadata": {
        "id": "4tB35PGwF8O3"
      },
      "source": [
        "Run the following block to one-hot-encode all the columns with categorical data."
      ]
    },
    {
      "cell_type": "code",
      "metadata": {
        "id": "FUp1fGxHFeo4",
        "colab": {
          "base_uri": "https://localhost:8080/",
          "height": 224
        },
        "outputId": "ab0dde77-8051-4a35-af16-ed76916dbecf"
      },
      "source": [
        "needToEncode = [\"school\", \"sex\", \"address\", \"famsize\", \"Pstatus\", \"Mjob\", \"Fjob\", \"reason\", \n",
        "                \"guardian\", \"schoolsup\", \"famsup\", \"paid\", \"activities\", \"nursery\", \"higher\", \"internet\", \"romantic\"]\n",
        "                \n",
        "for col in needToEncode:\n",
        "  students = oneHotEncode(students, col)\n",
        "\n",
        "students.head()"
      ],
      "execution_count": null,
      "outputs": [
        {
          "output_type": "execute_result",
          "data": {
            "text/html": [
              "<div>\n",
              "<style scoped>\n",
              "    .dataframe tbody tr th:only-of-type {\n",
              "        vertical-align: middle;\n",
              "    }\n",
              "\n",
              "    .dataframe tbody tr th {\n",
              "        vertical-align: top;\n",
              "    }\n",
              "\n",
              "    .dataframe thead th {\n",
              "        text-align: right;\n",
              "    }\n",
              "</style>\n",
              "<table border=\"1\" class=\"dataframe\">\n",
              "  <thead>\n",
              "    <tr style=\"text-align: right;\">\n",
              "      <th></th>\n",
              "      <th>age</th>\n",
              "      <th>Medu</th>\n",
              "      <th>Fedu</th>\n",
              "      <th>traveltime</th>\n",
              "      <th>studytime</th>\n",
              "      <th>failures</th>\n",
              "      <th>famrel</th>\n",
              "      <th>freetime</th>\n",
              "      <th>goout</th>\n",
              "      <th>Dalc</th>\n",
              "      <th>Walc</th>\n",
              "      <th>health</th>\n",
              "      <th>absences</th>\n",
              "      <th>G1</th>\n",
              "      <th>G2</th>\n",
              "      <th>G3</th>\n",
              "      <th>school_GP</th>\n",
              "      <th>school_MS</th>\n",
              "      <th>sex_F</th>\n",
              "      <th>sex_M</th>\n",
              "      <th>address_U</th>\n",
              "      <th>address_R</th>\n",
              "      <th>famsize_GT3</th>\n",
              "      <th>famsize_LE3</th>\n",
              "      <th>Pstatus_A</th>\n",
              "      <th>Pstatus_T</th>\n",
              "      <th>Mjob_at_home</th>\n",
              "      <th>Mjob_health</th>\n",
              "      <th>Mjob_other</th>\n",
              "      <th>Mjob_services</th>\n",
              "      <th>Mjob_teacher</th>\n",
              "      <th>Fjob_teacher</th>\n",
              "      <th>Fjob_other</th>\n",
              "      <th>Fjob_services</th>\n",
              "      <th>Fjob_health</th>\n",
              "      <th>Fjob_at_home</th>\n",
              "      <th>reason_course</th>\n",
              "      <th>reason_other</th>\n",
              "      <th>reason_home</th>\n",
              "      <th>reason_reputation</th>\n",
              "      <th>guardian_mother</th>\n",
              "      <th>guardian_father</th>\n",
              "      <th>guardian_other</th>\n",
              "      <th>schoolsup_yes</th>\n",
              "      <th>schoolsup_no</th>\n",
              "      <th>famsup_no</th>\n",
              "      <th>famsup_yes</th>\n",
              "      <th>paid_no</th>\n",
              "      <th>paid_yes</th>\n",
              "      <th>activities_no</th>\n",
              "      <th>activities_yes</th>\n",
              "      <th>nursery_yes</th>\n",
              "      <th>nursery_no</th>\n",
              "      <th>higher_yes</th>\n",
              "      <th>higher_no</th>\n",
              "      <th>internet_no</th>\n",
              "      <th>internet_yes</th>\n",
              "      <th>romantic_no</th>\n",
              "      <th>romantic_yes</th>\n",
              "    </tr>\n",
              "  </thead>\n",
              "  <tbody>\n",
              "    <tr>\n",
              "      <th>0</th>\n",
              "      <td>18</td>\n",
              "      <td>4</td>\n",
              "      <td>4</td>\n",
              "      <td>2</td>\n",
              "      <td>2</td>\n",
              "      <td>0</td>\n",
              "      <td>4</td>\n",
              "      <td>3</td>\n",
              "      <td>4</td>\n",
              "      <td>1</td>\n",
              "      <td>1</td>\n",
              "      <td>3</td>\n",
              "      <td>6</td>\n",
              "      <td>5</td>\n",
              "      <td>6</td>\n",
              "      <td>6</td>\n",
              "      <td>1.0</td>\n",
              "      <td>0.0</td>\n",
              "      <td>1.0</td>\n",
              "      <td>0.0</td>\n",
              "      <td>1.0</td>\n",
              "      <td>0.0</td>\n",
              "      <td>1.0</td>\n",
              "      <td>0.0</td>\n",
              "      <td>1.0</td>\n",
              "      <td>0.0</td>\n",
              "      <td>1.0</td>\n",
              "      <td>0.0</td>\n",
              "      <td>0.0</td>\n",
              "      <td>0.0</td>\n",
              "      <td>0.0</td>\n",
              "      <td>1.0</td>\n",
              "      <td>0.0</td>\n",
              "      <td>0.0</td>\n",
              "      <td>0.0</td>\n",
              "      <td>0.0</td>\n",
              "      <td>1.0</td>\n",
              "      <td>0.0</td>\n",
              "      <td>0.0</td>\n",
              "      <td>0.0</td>\n",
              "      <td>1.0</td>\n",
              "      <td>0.0</td>\n",
              "      <td>0.0</td>\n",
              "      <td>1.0</td>\n",
              "      <td>0.0</td>\n",
              "      <td>1.0</td>\n",
              "      <td>0.0</td>\n",
              "      <td>1.0</td>\n",
              "      <td>0.0</td>\n",
              "      <td>1.0</td>\n",
              "      <td>0.0</td>\n",
              "      <td>1.0</td>\n",
              "      <td>0.0</td>\n",
              "      <td>1.0</td>\n",
              "      <td>0.0</td>\n",
              "      <td>1.0</td>\n",
              "      <td>0.0</td>\n",
              "      <td>1.0</td>\n",
              "      <td>0.0</td>\n",
              "    </tr>\n",
              "    <tr>\n",
              "      <th>1</th>\n",
              "      <td>17</td>\n",
              "      <td>1</td>\n",
              "      <td>1</td>\n",
              "      <td>1</td>\n",
              "      <td>2</td>\n",
              "      <td>0</td>\n",
              "      <td>5</td>\n",
              "      <td>3</td>\n",
              "      <td>3</td>\n",
              "      <td>1</td>\n",
              "      <td>1</td>\n",
              "      <td>3</td>\n",
              "      <td>4</td>\n",
              "      <td>5</td>\n",
              "      <td>5</td>\n",
              "      <td>6</td>\n",
              "      <td>1.0</td>\n",
              "      <td>0.0</td>\n",
              "      <td>1.0</td>\n",
              "      <td>0.0</td>\n",
              "      <td>1.0</td>\n",
              "      <td>0.0</td>\n",
              "      <td>1.0</td>\n",
              "      <td>0.0</td>\n",
              "      <td>0.0</td>\n",
              "      <td>1.0</td>\n",
              "      <td>1.0</td>\n",
              "      <td>0.0</td>\n",
              "      <td>0.0</td>\n",
              "      <td>0.0</td>\n",
              "      <td>0.0</td>\n",
              "      <td>0.0</td>\n",
              "      <td>1.0</td>\n",
              "      <td>0.0</td>\n",
              "      <td>0.0</td>\n",
              "      <td>0.0</td>\n",
              "      <td>1.0</td>\n",
              "      <td>0.0</td>\n",
              "      <td>0.0</td>\n",
              "      <td>0.0</td>\n",
              "      <td>0.0</td>\n",
              "      <td>1.0</td>\n",
              "      <td>0.0</td>\n",
              "      <td>0.0</td>\n",
              "      <td>1.0</td>\n",
              "      <td>0.0</td>\n",
              "      <td>1.0</td>\n",
              "      <td>1.0</td>\n",
              "      <td>0.0</td>\n",
              "      <td>1.0</td>\n",
              "      <td>0.0</td>\n",
              "      <td>0.0</td>\n",
              "      <td>1.0</td>\n",
              "      <td>1.0</td>\n",
              "      <td>0.0</td>\n",
              "      <td>0.0</td>\n",
              "      <td>1.0</td>\n",
              "      <td>1.0</td>\n",
              "      <td>0.0</td>\n",
              "    </tr>\n",
              "    <tr>\n",
              "      <th>2</th>\n",
              "      <td>15</td>\n",
              "      <td>1</td>\n",
              "      <td>1</td>\n",
              "      <td>1</td>\n",
              "      <td>2</td>\n",
              "      <td>3</td>\n",
              "      <td>4</td>\n",
              "      <td>3</td>\n",
              "      <td>2</td>\n",
              "      <td>2</td>\n",
              "      <td>3</td>\n",
              "      <td>3</td>\n",
              "      <td>10</td>\n",
              "      <td>7</td>\n",
              "      <td>8</td>\n",
              "      <td>10</td>\n",
              "      <td>1.0</td>\n",
              "      <td>0.0</td>\n",
              "      <td>1.0</td>\n",
              "      <td>0.0</td>\n",
              "      <td>1.0</td>\n",
              "      <td>0.0</td>\n",
              "      <td>0.0</td>\n",
              "      <td>1.0</td>\n",
              "      <td>0.0</td>\n",
              "      <td>1.0</td>\n",
              "      <td>1.0</td>\n",
              "      <td>0.0</td>\n",
              "      <td>0.0</td>\n",
              "      <td>0.0</td>\n",
              "      <td>0.0</td>\n",
              "      <td>0.0</td>\n",
              "      <td>1.0</td>\n",
              "      <td>0.0</td>\n",
              "      <td>0.0</td>\n",
              "      <td>0.0</td>\n",
              "      <td>0.0</td>\n",
              "      <td>1.0</td>\n",
              "      <td>0.0</td>\n",
              "      <td>0.0</td>\n",
              "      <td>1.0</td>\n",
              "      <td>0.0</td>\n",
              "      <td>0.0</td>\n",
              "      <td>1.0</td>\n",
              "      <td>0.0</td>\n",
              "      <td>1.0</td>\n",
              "      <td>0.0</td>\n",
              "      <td>0.0</td>\n",
              "      <td>1.0</td>\n",
              "      <td>1.0</td>\n",
              "      <td>0.0</td>\n",
              "      <td>1.0</td>\n",
              "      <td>0.0</td>\n",
              "      <td>1.0</td>\n",
              "      <td>0.0</td>\n",
              "      <td>0.0</td>\n",
              "      <td>1.0</td>\n",
              "      <td>1.0</td>\n",
              "      <td>0.0</td>\n",
              "    </tr>\n",
              "    <tr>\n",
              "      <th>3</th>\n",
              "      <td>15</td>\n",
              "      <td>4</td>\n",
              "      <td>2</td>\n",
              "      <td>1</td>\n",
              "      <td>3</td>\n",
              "      <td>0</td>\n",
              "      <td>3</td>\n",
              "      <td>2</td>\n",
              "      <td>2</td>\n",
              "      <td>1</td>\n",
              "      <td>1</td>\n",
              "      <td>5</td>\n",
              "      <td>2</td>\n",
              "      <td>15</td>\n",
              "      <td>14</td>\n",
              "      <td>15</td>\n",
              "      <td>1.0</td>\n",
              "      <td>0.0</td>\n",
              "      <td>1.0</td>\n",
              "      <td>0.0</td>\n",
              "      <td>1.0</td>\n",
              "      <td>0.0</td>\n",
              "      <td>1.0</td>\n",
              "      <td>0.0</td>\n",
              "      <td>0.0</td>\n",
              "      <td>1.0</td>\n",
              "      <td>0.0</td>\n",
              "      <td>1.0</td>\n",
              "      <td>0.0</td>\n",
              "      <td>0.0</td>\n",
              "      <td>0.0</td>\n",
              "      <td>0.0</td>\n",
              "      <td>0.0</td>\n",
              "      <td>1.0</td>\n",
              "      <td>0.0</td>\n",
              "      <td>0.0</td>\n",
              "      <td>0.0</td>\n",
              "      <td>0.0</td>\n",
              "      <td>1.0</td>\n",
              "      <td>0.0</td>\n",
              "      <td>1.0</td>\n",
              "      <td>0.0</td>\n",
              "      <td>0.0</td>\n",
              "      <td>0.0</td>\n",
              "      <td>1.0</td>\n",
              "      <td>0.0</td>\n",
              "      <td>1.0</td>\n",
              "      <td>0.0</td>\n",
              "      <td>1.0</td>\n",
              "      <td>0.0</td>\n",
              "      <td>1.0</td>\n",
              "      <td>1.0</td>\n",
              "      <td>0.0</td>\n",
              "      <td>1.0</td>\n",
              "      <td>0.0</td>\n",
              "      <td>0.0</td>\n",
              "      <td>1.0</td>\n",
              "      <td>0.0</td>\n",
              "      <td>1.0</td>\n",
              "    </tr>\n",
              "    <tr>\n",
              "      <th>4</th>\n",
              "      <td>16</td>\n",
              "      <td>3</td>\n",
              "      <td>3</td>\n",
              "      <td>1</td>\n",
              "      <td>2</td>\n",
              "      <td>0</td>\n",
              "      <td>4</td>\n",
              "      <td>3</td>\n",
              "      <td>2</td>\n",
              "      <td>1</td>\n",
              "      <td>2</td>\n",
              "      <td>5</td>\n",
              "      <td>4</td>\n",
              "      <td>6</td>\n",
              "      <td>10</td>\n",
              "      <td>10</td>\n",
              "      <td>1.0</td>\n",
              "      <td>0.0</td>\n",
              "      <td>1.0</td>\n",
              "      <td>0.0</td>\n",
              "      <td>1.0</td>\n",
              "      <td>0.0</td>\n",
              "      <td>1.0</td>\n",
              "      <td>0.0</td>\n",
              "      <td>0.0</td>\n",
              "      <td>1.0</td>\n",
              "      <td>0.0</td>\n",
              "      <td>0.0</td>\n",
              "      <td>1.0</td>\n",
              "      <td>0.0</td>\n",
              "      <td>0.0</td>\n",
              "      <td>0.0</td>\n",
              "      <td>1.0</td>\n",
              "      <td>0.0</td>\n",
              "      <td>0.0</td>\n",
              "      <td>0.0</td>\n",
              "      <td>0.0</td>\n",
              "      <td>0.0</td>\n",
              "      <td>1.0</td>\n",
              "      <td>0.0</td>\n",
              "      <td>0.0</td>\n",
              "      <td>1.0</td>\n",
              "      <td>0.0</td>\n",
              "      <td>0.0</td>\n",
              "      <td>1.0</td>\n",
              "      <td>0.0</td>\n",
              "      <td>1.0</td>\n",
              "      <td>0.0</td>\n",
              "      <td>1.0</td>\n",
              "      <td>1.0</td>\n",
              "      <td>0.0</td>\n",
              "      <td>1.0</td>\n",
              "      <td>0.0</td>\n",
              "      <td>1.0</td>\n",
              "      <td>0.0</td>\n",
              "      <td>1.0</td>\n",
              "      <td>0.0</td>\n",
              "      <td>1.0</td>\n",
              "      <td>0.0</td>\n",
              "    </tr>\n",
              "  </tbody>\n",
              "</table>\n",
              "</div>"
            ],
            "text/plain": [
              "   age  Medu  Fedu  ...  internet_yes  romantic_no  romantic_yes\n",
              "0   18     4     4  ...           0.0          1.0           0.0\n",
              "1   17     1     1  ...           1.0          1.0           0.0\n",
              "2   15     1     1  ...           1.0          1.0           0.0\n",
              "3   15     4     2  ...           1.0          0.0           1.0\n",
              "4   16     3     3  ...           0.0          1.0           0.0\n",
              "\n",
              "[5 rows x 59 columns]"
            ]
          },
          "metadata": {
            "tags": []
          },
          "execution_count": 53
        }
      ]
    },
    {
      "cell_type": "markdown",
      "metadata": {
        "id": "DWUDJVEuJvJ5"
      },
      "source": [
        "### Q1.2 Train Test Split\n",
        "Next, the data must be split into \"training data\" and \"test data.\" The training data is what we use to train our model, and the test data is what we will use to evaluate our model. Do so with train_test_split (which we have imported for you above), splitting the data into 80% training and 20% test data sets. "
      ]
    },
    {
      "cell_type": "code",
      "metadata": {
        "id": "IA59GdHWAk-R"
      },
      "source": [
        "#TODO\n",
        "train, test = ...\n",
        "#END TODO"
      ],
      "execution_count": null,
      "outputs": []
    },
    {
      "cell_type": "markdown",
      "metadata": {
        "id": "rBLj-pF8IDQx"
      },
      "source": [
        "###Q1.3 Inputs and Outputs"
      ]
    },
    {
      "cell_type": "markdown",
      "metadata": {
        "id": "ZSGAi8wUrfwo"
      },
      "source": [
        "Next,  the data must be split into *X* and *Y* values, both for the training and test data sets. In this case the Y values are the columns `G1`, `G2`, and `G3`, and the X values are all other columns. The Y values that we are trying to learn are the grades of each student at the first, second, and third grading periods (think midterms). Each of these Y-values should get its own numpy array, as all of them will be prediction targets. Note that the pandas dataframes must be converted into numpy arrays so they can be manipulated with linear algebra. \n",
        "\n",
        "\n"
      ]
    },
    {
      "cell_type": "code",
      "metadata": {
        "id": "TaRWqQRbre9i"
      },
      "source": [
        "#TODO\n",
        "X_train = ...\n",
        "X_test = ...\n",
        "y_train_G1 = ...\n",
        "y_train_G2 = ...\n",
        "y_train_G3 = ...\n",
        "\n",
        "y_test_G1 = ...\n",
        "y_test_G2 = ...\n",
        "y_test_G3 = ...\n",
        "\n",
        "#END TODO\n",
        "\n",
        "X_train = X_train.to_numpy()\n",
        "X_test = X_test.to_numpy()\n",
        "y_train_G1 = y_train_G1.to_numpy()\n",
        "y_train_G2 = y_train_G2.to_numpy()\n",
        "y_train_G3 = y_train_G3.to_numpy()\n",
        "y_test_G1 = y_test_G1.to_numpy()\n",
        "y_test_G2 = y_test_G2.to_numpy()\n",
        "y_test_G3 = y_test_G3.to_numpy()"
      ],
      "execution_count": null,
      "outputs": []
    },
    {
      "cell_type": "markdown",
      "metadata": {
        "id": "_WsTxM6EblCf"
      },
      "source": [
        "Run this cell as a sanity check, it ensures that the numpy arrays you have created are of the right shape and only contain numerical values."
      ]
    },
    {
      "cell_type": "code",
      "metadata": {
        "id": "yG2SNXQdHQLc",
        "colab": {
          "base_uri": "https://localhost:8080/"
        },
        "outputId": "6cc8b9e4-4242-484e-bae8-1ddc436d2349"
      },
      "source": [
        "assert(X_train.shape == (285, 56))\n",
        "assert(not np.isnan(X_train).any())\n",
        "assert(X_test.shape == (72, 56) )\n",
        "assert(not np.isnan(X_test).any())\n",
        "assert(y_train_G1.shape == (285, 1))\n",
        "assert(not np.isnan(y_train_G1).any())\n",
        "assert(y_test_G1.shape == (72, 1))\n",
        "assert(not np.isnan(y_test_G1).any())\n",
        "print(\"Success!\")"
      ],
      "execution_count": null,
      "outputs": [
        {
          "output_type": "stream",
          "text": [
            "Success!\n"
          ],
          "name": "stdout"
        }
      ]
    },
    {
      "cell_type": "markdown",
      "metadata": {
        "id": "nmADPRPo0US5"
      },
      "source": [
        "## Question 2 - Building the MLP\n",
        "\n",
        "###Q2.1 Activation Function - Rectified Linear Unit\n",
        "Now you are going to implement your first neural network. **Let us first write the activation function - we will use the the ReLU function, a simple but widely used variant.** This should be one line."
      ]
    },
    {
      "cell_type": "code",
      "metadata": {
        "id": "cn_zvPnKV03Q"
      },
      "source": [
        "def relu(x):\n",
        "  #TODO\n",
        "  return ...\n",
        "  #END TODO"
      ],
      "execution_count": null,
      "outputs": []
    },
    {
      "cell_type": "markdown",
      "metadata": {
        "id": "mNwE7yfyV1rm"
      },
      "source": [
        "### Q2.2 A Single Naive Neuron\n",
        "A neural network is a collection of neurons, but **you are going to start by implementing a single neuron**. Initialize the neuron with random weights and a random bias using `np.random.rand`. The inputs should be first weighted and summed - **use a for loop to calculate this weighted sum**. At the end, you need to apply the activation function you wrote above. Remember that the equation for the output of the neuron is $\\phi(b + \\sum x_i * w_i$ where $x_i)$ are the inputs, $w_i$ are the outputs, $b$ is the bias, and $\\phi$ is the activation function."
      ]
    },
    {
      "cell_type": "code",
      "metadata": {
        "id": "kUV0UnSL0TlL"
      },
      "source": [
        "class NaiveNeuron:\n",
        "  def __init__(self, input_size):\n",
        "    #TODO\n",
        "    self.weights = ...\n",
        "    self.bias = ...\n",
        "    #END TODO\n",
        "\n",
        "  def run(self, input):\n",
        "    weighted_sum = 0\n",
        "    #TODO\n",
        "    for i, w in zip(input, self.weights):\n",
        "      ...\n",
        "    ...\n",
        "    #END TODO\n",
        "    return activated\n",
        "    \n"
      ],
      "execution_count": null,
      "outputs": []
    },
    {
      "cell_type": "markdown",
      "metadata": {
        "id": "UpOF99F6RrgZ"
      },
      "source": [
        "### Q2.3 A Single Vectorized Neuron\n",
        "Here we will see the power of neural networks in their ability to be computed in parallel. **Vectorize the neuron by using numpy's built in vector multiplication.** The initialization should be the same as before. We can now write our equation as $\\phi(b + \\textbf{w}^T\\textbf{x}$)."
      ]
    },
    {
      "cell_type": "code",
      "metadata": {
        "id": "fkwxc8VdSL6r"
      },
      "source": [
        "class VectorizedNeuron:\n",
        "  def __init__(self, input_size):\n",
        "    #TODO\n",
        "    self.weights = ...\n",
        "    self.bias = ...\n",
        "    #END TODO\n",
        "\n",
        "  def run(self, input):\n",
        "    #TODO\n",
        "    activated = ...\n",
        "    return activated\n",
        "    #END TODO\n"
      ],
      "execution_count": null,
      "outputs": []
    },
    {
      "cell_type": "markdown",
      "metadata": {
        "id": "khj7TiKNS-zV"
      },
      "source": [
        "###Q2.4 The Power of Vectorization \n",
        "Let us examine why it is so important that the computations can be vectorized. **Run the cell below and comment on your observations.** Which neuron is more effective, and why would we prefer it? This can act as a sanity check of your previous implementations of each neuron."
      ]
    },
    {
      "cell_type": "code",
      "metadata": {
        "id": "X6fwjLq5UcdD",
        "colab": {
          "base_uri": "https://localhost:8080/"
        },
        "outputId": "3afb68a9-c802-416c-b24f-65fdea1be30c"
      },
      "source": [
        "naive_neuron = NaiveNeuron(500)\n",
        "vectorized_neuron = VectorizedNeuron(500)\n",
        "\n",
        "naive_start = time.time()\n",
        "for _ in range(10000):\n",
        "  naive_weighted_sum = naive_neuron.run(np.ones(500))\n",
        "naive_end = time.time()\n",
        "\n",
        "vectorized_start = time.time()\n",
        "for _ in range(10000):\n",
        "  vectorized_weighted_sum = vectorized_neuron.run(np.ones(500))\n",
        "vectorized_end = time.time()\n",
        "\n",
        "print(\"Naive neuron took: \" + str(naive_end - naive_start))\n",
        "print(\"Vectorized neuron took: \" + str(vectorized_end - vectorized_start))"
      ],
      "execution_count": null,
      "outputs": [
        {
          "output_type": "stream",
          "text": [
            "Naive neuron took: 2.142167329788208\n",
            "Vectorized neuron took: 0.06779789924621582\n"
          ],
          "name": "stdout"
        }
      ]
    },
    {
      "cell_type": "markdown",
      "metadata": {
        "id": "PoOVb_90V6pW"
      },
      "source": [
        "Answer: (TODO) We can see that even though we ran each neuron the same amount of times with the same sized input, the vectorized neuron is much faster. This is because the computations are optimized and done in parallel rather than sequentially. This allows us to process data much faster, which will be important when we link together more layers and build deeper networks."
      ]
    },
    {
      "cell_type": "markdown",
      "metadata": {
        "id": "ORTtZq4B4d6C"
      },
      "source": [
        "### Q2.5 Building a Single Layer\n",
        "Now that you have a function that acts as a single neuron, try linking that neuron together with more neurons! Fill in the function `run` that outputs the array of results from all the `Neuron`s in the layer, which you must instantiate.\n"
      ]
    },
    {
      "cell_type": "code",
      "metadata": {
        "id": "ZplIWtKA5osg"
      },
      "source": [
        "class Layer:\n",
        "  def __init__(self, input_size, layer_size):\n",
        "    #TODO\n",
        "    self.neurons = ...\n",
        "    #END TODO\n",
        "\n",
        "  def run(self, input):\n",
        "    #TODO\n",
        "    ...\n",
        "    return ...\n",
        "    #END TODO"
      ],
      "execution_count": null,
      "outputs": []
    },
    {
      "cell_type": "markdown",
      "metadata": {
        "id": "T128-F8b97ab"
      },
      "source": [
        "### Q2.6 Linking Layers Together\n",
        "**Now that you have a network with one layer, try linking together multiple layers into a larger network.** Again, this network will not be able to accurately estimate the y values of its inputs as we are not training the network. We are only implementing the feedforward mechanism."
      ]
    },
    {
      "cell_type": "code",
      "metadata": {
        "id": "1Ng3_OZ997GC"
      },
      "source": [
        "class FeedForwardNetwork:\n",
        "  def __init__(self, layers):\n",
        "    self.layers = ...\n",
        "\n",
        "  def feedforward(self, input):\n",
        "    #TODO\n",
        "    output = ...\n",
        "    return ...\n",
        "    #END TODO"
      ],
      "execution_count": null,
      "outputs": []
    },
    {
      "cell_type": "markdown",
      "metadata": {
        "id": "ZMXhFC_raz7m"
      },
      "source": [
        "###Q2.7 Putting It All Together\n",
        "We now have finished implementing the forward pass of an MLP! The underlying structure is all there, and you should now understand the building blocks that can now be used to build fancier models. **Run a forward pass on the first row of `X_train` (which corresponds to a student) using a 3-layered feedforward network with hidden layer size 100 and examine its output.** (Hint: Think about what the input and output sizes are of each layer)."
      ]
    },
    {
      "cell_type": "code",
      "metadata": {
        "id": "eyZ4NJIQb2wz",
        "colab": {
          "base_uri": "https://localhost:8080/"
        },
        "outputId": "48ba1a1d-f866-44e6-ae8b-b654b7f1c8bd"
      },
      "source": [
        "#TODO\n",
        "layer1 = ...\n",
        "layer2 = ...\n",
        "layer3 = ...\n",
        "\n",
        "feedforward_network = ...\n",
        "\n",
        "one_student = ...\n",
        "prediction = ...\n",
        "#END TODO\n",
        "\n",
        "print(prediction)"
      ],
      "execution_count": null,
      "outputs": [
        {
          "output_type": "stream",
          "text": [
            "[81394.26232389]\n"
          ],
          "name": "stdout"
        }
      ]
    },
    {
      "cell_type": "markdown",
      "metadata": {
        "id": "UzQBgzQCk6zX"
      },
      "source": [
        "###Q2.8 Looking Forwards - Training and Backpropagation\n",
        "**Explain why our prediction above is the way it is. Do they look close to any of the `G1`, `G2`, `G3` columns that we are trying to predict? Why or why not? What is necessary for us to have an accurate prediction?**"
      ]
    },
    {
      "cell_type": "markdown",
      "metadata": {
        "id": "5nWkLefjk7h8"
      },
      "source": [
        "\n",
        "\n",
        "TODO\n",
        "\n",
        "END TODO"
      ]
    },
    {
      "cell_type": "markdown",
      "metadata": {
        "id": "lbun1vYF55qS"
      },
      "source": [
        "## Q3 - Package: Scikit-Learn\n"
      ]
    },
    {
      "cell_type": "markdown",
      "metadata": {
        "id": "nDoFefaKfsOF"
      },
      "source": [
        "\n",
        "\n",
        "\n",
        "The first network from a package you are going to implement is a basic network for classification. Implement the MLP classifier specified at \n",
        "\n",
        "https://scikit-learn.org/stable/modules/generated/sklearn.neural_network.MLPClassifier.html#sklearn.neural_network.MLPClassifier\n",
        "\n",
        "###Q3.1 Classifying G3\n",
        "\n",
        "Currently, the y values of the dataset are numerical and in three columns. However, we want to be able to make binary classifications about the students, so convert y_train_G3 and y_test_G3 into 1x(N\\*0.8) and 1x(N\\*.2) numpy vectors. Create a classifier with two hidden layers of size 100 each that predicts if a student's G3 grade is above or below the average G3 grade (for the whole dataset). Report the percent classification accuracy on the training and test datasets. \n",
        "\n"
      ]
    },
    {
      "cell_type": "code",
      "metadata": {
        "id": "mX_tyLz9cMay",
        "colab": {
          "base_uri": "https://localhost:8080/"
        },
        "outputId": "b8b8c844-cec4-4ab9-e6c7-b669e97393a9"
      },
      "source": [
        "from sklearn.neural_network import MLPClassifier\n",
        "from sklearn.exceptions import DataConversionWarning\n",
        "import warnings\n",
        "warnings.filterwarnings(action='ignore', category=DataConversionWarning)\n",
        "\n",
        "#TODO\n",
        "\n",
        "classifier = ...\n",
        "mean_score = ...\n",
        "y_train_G3_class = ...\n",
        "y_test_G3_class = ...\n",
        "\n",
        "#END TODO\n",
        "\n",
        "\n",
        "print(\"test accuracy is\", np.mean(classifier.predict(X_test) == y_test_G3_class))\n",
        "print(\"train accuracy is\", np.mean(classifier.predict(X_train) == y_train_G3_class))\n"
      ],
      "execution_count": null,
      "outputs": [
        {
          "output_type": "stream",
          "text": [
            "test accuracy is 0.5405092592592593\n",
            "train accuracy is 0.5071345029239767\n"
          ],
          "name": "stdout"
        }
      ]
    },
    {
      "cell_type": "markdown",
      "metadata": {
        "id": "OCrgn9Ed9Bri"
      },
      "source": [
        "###Q3.2 Classifying G1 and G2\n",
        "Now do the same for G1 and G2, reporting the training and test accuracy for each. \n",
        "\n",
        "\n"
      ]
    },
    {
      "cell_type": "code",
      "metadata": {
        "colab": {
          "base_uri": "https://localhost:8080/"
        },
        "id": "1RPKly41Pq5Z",
        "outputId": "83426cc6-c35b-44b9-edef-6ebb054e9d6d"
      },
      "source": [
        "#TODO\n",
        "\n",
        "classifier = ...\n",
        "mean_score = ...\n",
        "y_train_G2_class = ...\n",
        "y_test_G2_class = ...\n",
        "\n",
        "classifier = ...\n",
        "mean_score = ...\n",
        "y_train_G1_class = ...\n",
        "y_test_G1_class = ...\n",
        "\n",
        "#END TODO\n",
        "\n",
        "\n",
        "print(\"test accuracy for G2 is\", np.mean(classifier.predict(X_test) == y_test_G2_class))\n",
        "print(\"train accuracy for G2 is\", np.mean(classifier.predict(X_train) == y_train_G2_class))\n",
        "\n",
        "print(\"test accuracy for G1 is\", np.mean(classifier.predict(X_test) == y_test_G1_class))\n",
        "print(\"train accuracy for G1 is\", np.mean(classifier.predict(X_train) == y_train_G1_class))"
      ],
      "execution_count": null,
      "outputs": [
        {
          "output_type": "stream",
          "text": [
            "test accuracy for G2 is 0.5366512345679012\n",
            "train accuracy for G2 is 0.5049430594028932\n",
            "test accuracy for G1 is 0.5513117283950617\n",
            "train accuracy for G1 is 0.5085380116959064\n"
          ],
          "name": "stdout"
        }
      ]
    },
    {
      "cell_type": "markdown",
      "metadata": {
        "id": "xdHkQoXDF8Q1"
      },
      "source": [
        "### Q3.3 Iterations vs Accuracy\n",
        "Now, we're going to investigate the effect of the number of iterations on the training and test accuracy. In increments of two, plot the train and test accuracy vs the number of iterations, between one and five hundred iterations. Label the axes and provide a key."
      ]
    },
    {
      "cell_type": "code",
      "metadata": {
        "id": "LfFkQU4UfrpH",
        "colab": {
          "base_uri": "https://localhost:8080/",
          "height": 312
        },
        "outputId": "086e4299-e636-4201-9da8-debf36711c16"
      },
      "source": [
        "from matplotlib import pyplot as plt\n",
        "%matplotlib inline\n",
        "\n",
        "from sklearn.utils.testing import ignore_warnings\n",
        "from sklearn.exceptions import ConvergenceWarning\n",
        "\n",
        "@ignore_warnings(category=ConvergenceWarning)\n",
        "def report_training_and_test_accuracy(max_iter):\n",
        "  classifier = MLPClassifier(random_state=1,learning_rate_init=0.0001, max_iter=max_iter, activation='relu', hidden_layer_sizes=(100,))\n",
        "  mean_score = (y_train_G3.sum() + y_test_G3.sum()) / (y_train_G3.shape[0] + y_test_G3.shape[0])\n",
        "  y_train_class = (y_train_G3 > mean_score).astype(int)\n",
        "  y_test_class = (y_test_G3 > mean_score).astype(int)\n",
        "  classifier.fit(X_train, y_train_class)\n",
        "  return np.mean(classifier.predict(X_test) == y_test_class), np.mean(classifier.predict(X_train) == y_train_class)\n",
        "\n",
        "xs = np.arange(1, 200, 3)\n",
        "accuracy = [report_training_and_test_accuracy(x) for x in xs]\n",
        "ys_test = [index[0] for index in accuracy]\n",
        "ys_train = [index[1] for index in accuracy]\n",
        "\n",
        "import warnings\n",
        "warnings.filterwarnings(\"ignore\")\n",
        "\n",
        "plt.plot(xs, ys_test, label=\"Test Accuracy\")\n",
        "plt.plot(xs, ys_train, label=\"Train Accuracy\")\n",
        "plt.xlabel(\"Number of iterations\")\n",
        "plt.ylabel(\"Fraction of data classified correctly\")\n",
        "plt.title(\"Number of Iterations vs Fraction of Data Classified Correctly\")\n",
        "plt.legend()"
      ],
      "execution_count": null,
      "outputs": [
        {
          "output_type": "execute_result",
          "data": {
            "text/plain": [
              "<matplotlib.legend.Legend at 0x7f0edb8fccf8>"
            ]
          },
          "metadata": {
            "tags": []
          },
          "execution_count": 70
        },
        {
          "output_type": "display_data",
          "data": {
            "image/png": "[encoded data removed]",
            "text/plain": [
              "<Figure size 432x288 with 1 Axes>"
            ]
          },
          "metadata": {
            "tags": [],
            "needs_background": "light"
          }
        }
      ]
    },
    {
      "cell_type": "markdown",
      "metadata": {
        "id": "TGG4gouJVu7p"
      },
      "source": [
        "###Q3.4 Iteration Rationale\n",
        "Why do you think the graph looks like that? Intuition might indicate that the longer you train the better the predictions will be, but the graph may say otherwise."
      ]
    },
    {
      "cell_type": "code",
      "metadata": {
        "id": "FInCZ5KLVzsM"
      },
      "source": [
        "#TODO\n",
        "\n",
        "#END TODO"
      ],
      "execution_count": 2,
      "outputs": []
    },
    {
      "cell_type": "markdown",
      "metadata": {
        "id": "5JXb8ByTNKcE"
      },
      "source": [
        "### Q3.4 Regressing G3\n",
        "\n",
        "Now you will implement a MLP that performs regression rather than classification. Create numpy arrays y_train_regress and y_test_regress, being 1x(N\\*0.8) and 1x(N\\*.2) numpy vectors of the student's G3 grade, then use the MLP regressor specified at\n",
        "\n",
        "https://scikit-learn.org/stable/modules/generated/sklearn.neural_network.MLPRegressor.html#sklearn.neural_network.MLPRegressor\n",
        "\n",
        "to train the network to predict student's scores. Report the error on the training and test datasets. "
      ]
    },
    {
      "cell_type": "code",
      "metadata": {
        "id": "fRUbc48TH9Hd",
        "colab": {
          "base_uri": "https://localhost:8080/",
          "height": 346
        },
        "outputId": "18e75ef7-1839-47f4-8598-7b77e2b42d7d"
      },
      "source": [
        "from sklearn.neural_network import MLPRegressor\n",
        "\n",
        "\n",
        "#TODO\n",
        "y_train_regress = ...\n",
        "y_test_regress = ...\n",
        "regressor = ...\n",
        "regressor = ...\n",
        "#END TODO\n",
        "\n",
        "print(\"test squared error is\", ((regressor.predict(X_test) - y_test_regress)**2).mean())\n",
        "print(\"train squared error is\", ((regressor.predict(X_train) - y_train_regress)**2).mean())\n",
        "\n",
        "plt.scatter(y_test_regress, regressor.predict(X_test))\n",
        "plt.title(\"Students' actual grades vs MLP-predicted students grades\")\n",
        "plt.xlabel(\"Students' grades\")\n",
        "plt.ylabel(\"Students' MLP-predicted grades\")"
      ],
      "execution_count": null,
      "outputs": [
        {
          "output_type": "stream",
          "text": [
            "test squared error is 12.500120798796559\n",
            "train squared error is 14.784358595591502\n"
          ],
          "name": "stdout"
        },
        {
          "output_type": "execute_result",
          "data": {
            "text/plain": [
              "Text(0, 0.5, \"Students' MLP-predicted grades\")"
            ]
          },
          "metadata": {
            "tags": []
          },
          "execution_count": 67
        },
        {
          "output_type": "display_data",
          "data": {
            "image/png": "[encoded data removed]",
            "text/plain": [
              "<Figure size 432x288 with 1 Axes>"
            ]
          },
          "metadata": {
            "tags": [],
            "needs_background": "light"
          }
        }
      ]
    }
  ]
}