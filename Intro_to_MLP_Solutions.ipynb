{
  "nbformat": 4,
  "nbformat_minor": 0,
  "metadata": {
    "colab": {
      "name": "Intro to MLP Solutions.ipynb",
      "provenance": [],
      "collapsed_sections": [],
      "toc_visible": true
    },
    "kernelspec": {
      "name": "python3",
      "display_name": "Python 3"
    }
  },
  "cells": [
    {
      "cell_type": "code",
      "metadata": {
        "id": "Q3uVJTWBMYfv"
      },
      "source": [
        "import numpy as np\n",
        "import sklearn\n",
        "import pandas as pd"
      ],
      "execution_count": 1,
      "outputs": []
    },
    {
      "cell_type": "markdown",
      "metadata": {
        "id": "bHtT0RDHHSJA"
      },
      "source": [
        "Next up in Cal's educational mission of assuring our student body that they aren't just numbers, we will examine a dataset of high school students and model their entire livelihoods using Multi-Layer Perceptrons (MLPs)! In this assignment, we will understand the basic function of and intuition behind the MLP, including the form of inputs/outputs, the feedforward mechanism, its ability to perform classification, and the prebuilt industry-standard package `sklearn`. The dataset stored in `students` is from two high schools in Portugal with information on student grades in Math in addition to demographic, social and school related features. Let us first examine the features available to us and their types.\n"
      ]
    },
    {
      "cell_type": "code",
      "metadata": {
        "id": "sdvp1oQT_5aR"
      },
      "source": [
        "students = pd.read_csv(\"sample_data/student-mat.csv\", sep=\";\")\n",
        "\n",
        "students.head()\n",
        "\n",
        "students = students[students[\"G3\"] != 0]"
      ],
      "execution_count": 2,
      "outputs": []
    },
    {
      "cell_type": "markdown",
      "metadata": {
        "id": "yKswTNZRBpIE"
      },
      "source": [
        "## Q1 Data Preprocessing\n",
        "As you can see the dataset contains a number of different columns, some being numeric and others being qualitative. However, because neural networks only take quantitative inputs, we will need all of the columns to be numeric. You will do this through a method called 'one hot encoding,' which involves taking qualitative columns with n different possible options and splitting them into n different columns. If the original column has a certain value, the value for that column will be \"1\" and the value in the other n-1 columns will be \"0\". **Modify the dataset so each of the qualitative columns are one-hot encoded by filling in the function `oneHotEncode`.**"
      ]
    },
    {
      "cell_type": "code",
      "metadata": {
        "colab": {
          "base_uri": "https://localhost:8080/",
          "height": 224
        },
        "id": "P7Bsb1PhE7EN",
        "outputId": "8d64ddbe-8e53-454e-aedf-24fc8f735d2a"
      },
      "source": [
        "def oneHotEncode(df, colName):\n",
        "  \n",
        "  #TODO\n",
        "  unique = df[colName].unique()\n",
        "  for newCol in unique:\n",
        "    df[newCol] = df[colName] == newCol\n",
        "  df = df.replace(False, 0)\n",
        "  df = df.replace(True, 1)\n",
        "  df = df.drop(columns=[colName])\n",
        "  #END TODO\n",
        "\n",
        "  return df\n",
        "\n",
        "\n",
        "\n",
        "needToEncode = [\"school\", \"sex\", \"address\", \"famsize\", \"Pstatus\", \"Mjob\", \"Fjob\", \"reason\", \n",
        "                \"guardian\", \"schoolsup\", \"famsup\", \"paid\", \"activities\", \"nursery\", \"higher\", \"internet\", \"romantic\"]\n",
        "for col in needToEncode:\n",
        "  students = oneHotEncode(students, col)\n",
        "\n",
        "students.head()"
      ],
      "execution_count": 3,
      "outputs": [
        {
          "output_type": "execute_result",
          "data": {
            "text/html": [
              "<div>\n",
              "<style scoped>\n",
              "    .dataframe tbody tr th:only-of-type {\n",
              "        vertical-align: middle;\n",
              "    }\n",
              "\n",
              "    .dataframe tbody tr th {\n",
              "        vertical-align: top;\n",
              "    }\n",
              "\n",
              "    .dataframe thead th {\n",
              "        text-align: right;\n",
              "    }\n",
              "</style>\n",
              "<table border=\"1\" class=\"dataframe\">\n",
              "  <thead>\n",
              "    <tr style=\"text-align: right;\">\n",
              "      <th></th>\n",
              "      <th>age</th>\n",
              "      <th>Medu</th>\n",
              "      <th>Fedu</th>\n",
              "      <th>traveltime</th>\n",
              "      <th>studytime</th>\n",
              "      <th>failures</th>\n",
              "      <th>famrel</th>\n",
              "      <th>freetime</th>\n",
              "      <th>goout</th>\n",
              "      <th>Dalc</th>\n",
              "      <th>Walc</th>\n",
              "      <th>health</th>\n",
              "      <th>absences</th>\n",
              "      <th>G1</th>\n",
              "      <th>G2</th>\n",
              "      <th>G3</th>\n",
              "      <th>GP</th>\n",
              "      <th>MS</th>\n",
              "      <th>F</th>\n",
              "      <th>M</th>\n",
              "      <th>U</th>\n",
              "      <th>R</th>\n",
              "      <th>GT3</th>\n",
              "      <th>LE3</th>\n",
              "      <th>A</th>\n",
              "      <th>T</th>\n",
              "      <th>at_home</th>\n",
              "      <th>other</th>\n",
              "      <th>services</th>\n",
              "      <th>teacher</th>\n",
              "      <th>course</th>\n",
              "      <th>home</th>\n",
              "      <th>reputation</th>\n",
              "      <th>mother</th>\n",
              "      <th>father</th>\n",
              "      <th>yes</th>\n",
              "      <th>no</th>\n",
              "    </tr>\n",
              "  </thead>\n",
              "  <tbody>\n",
              "    <tr>\n",
              "      <th>0</th>\n",
              "      <td>18</td>\n",
              "      <td>4</td>\n",
              "      <td>4</td>\n",
              "      <td>2</td>\n",
              "      <td>2</td>\n",
              "      <td>0</td>\n",
              "      <td>4</td>\n",
              "      <td>3</td>\n",
              "      <td>4</td>\n",
              "      <td>1</td>\n",
              "      <td>1</td>\n",
              "      <td>0.0</td>\n",
              "      <td>6</td>\n",
              "      <td>5</td>\n",
              "      <td>6</td>\n",
              "      <td>6</td>\n",
              "      <td>1.0</td>\n",
              "      <td>0.0</td>\n",
              "      <td>1.0</td>\n",
              "      <td>0.0</td>\n",
              "      <td>1.0</td>\n",
              "      <td>0.0</td>\n",
              "      <td>1.0</td>\n",
              "      <td>0.0</td>\n",
              "      <td>1.0</td>\n",
              "      <td>0.0</td>\n",
              "      <td>0.0</td>\n",
              "      <td>0.0</td>\n",
              "      <td>0.0</td>\n",
              "      <td>1.0</td>\n",
              "      <td>1.0</td>\n",
              "      <td>0.0</td>\n",
              "      <td>0.0</td>\n",
              "      <td>1.0</td>\n",
              "      <td>0.0</td>\n",
              "      <td>0.0</td>\n",
              "      <td>1.0</td>\n",
              "    </tr>\n",
              "    <tr>\n",
              "      <th>1</th>\n",
              "      <td>17</td>\n",
              "      <td>1</td>\n",
              "      <td>1</td>\n",
              "      <td>1</td>\n",
              "      <td>2</td>\n",
              "      <td>0</td>\n",
              "      <td>5</td>\n",
              "      <td>3</td>\n",
              "      <td>3</td>\n",
              "      <td>1</td>\n",
              "      <td>1</td>\n",
              "      <td>0.0</td>\n",
              "      <td>4</td>\n",
              "      <td>5</td>\n",
              "      <td>5</td>\n",
              "      <td>6</td>\n",
              "      <td>1.0</td>\n",
              "      <td>0.0</td>\n",
              "      <td>1.0</td>\n",
              "      <td>0.0</td>\n",
              "      <td>1.0</td>\n",
              "      <td>0.0</td>\n",
              "      <td>1.0</td>\n",
              "      <td>0.0</td>\n",
              "      <td>0.0</td>\n",
              "      <td>1.0</td>\n",
              "      <td>0.0</td>\n",
              "      <td>0.0</td>\n",
              "      <td>0.0</td>\n",
              "      <td>0.0</td>\n",
              "      <td>1.0</td>\n",
              "      <td>0.0</td>\n",
              "      <td>0.0</td>\n",
              "      <td>0.0</td>\n",
              "      <td>1.0</td>\n",
              "      <td>0.0</td>\n",
              "      <td>1.0</td>\n",
              "    </tr>\n",
              "    <tr>\n",
              "      <th>2</th>\n",
              "      <td>15</td>\n",
              "      <td>1</td>\n",
              "      <td>1</td>\n",
              "      <td>1</td>\n",
              "      <td>2</td>\n",
              "      <td>3</td>\n",
              "      <td>4</td>\n",
              "      <td>3</td>\n",
              "      <td>2</td>\n",
              "      <td>2</td>\n",
              "      <td>3</td>\n",
              "      <td>0.0</td>\n",
              "      <td>10</td>\n",
              "      <td>7</td>\n",
              "      <td>8</td>\n",
              "      <td>10</td>\n",
              "      <td>1.0</td>\n",
              "      <td>0.0</td>\n",
              "      <td>1.0</td>\n",
              "      <td>0.0</td>\n",
              "      <td>1.0</td>\n",
              "      <td>0.0</td>\n",
              "      <td>0.0</td>\n",
              "      <td>1.0</td>\n",
              "      <td>0.0</td>\n",
              "      <td>1.0</td>\n",
              "      <td>0.0</td>\n",
              "      <td>0.0</td>\n",
              "      <td>0.0</td>\n",
              "      <td>0.0</td>\n",
              "      <td>0.0</td>\n",
              "      <td>0.0</td>\n",
              "      <td>0.0</td>\n",
              "      <td>1.0</td>\n",
              "      <td>0.0</td>\n",
              "      <td>0.0</td>\n",
              "      <td>1.0</td>\n",
              "    </tr>\n",
              "    <tr>\n",
              "      <th>3</th>\n",
              "      <td>15</td>\n",
              "      <td>4</td>\n",
              "      <td>2</td>\n",
              "      <td>1</td>\n",
              "      <td>3</td>\n",
              "      <td>0</td>\n",
              "      <td>3</td>\n",
              "      <td>2</td>\n",
              "      <td>2</td>\n",
              "      <td>1</td>\n",
              "      <td>1</td>\n",
              "      <td>0.0</td>\n",
              "      <td>2</td>\n",
              "      <td>15</td>\n",
              "      <td>14</td>\n",
              "      <td>15</td>\n",
              "      <td>1.0</td>\n",
              "      <td>0.0</td>\n",
              "      <td>1.0</td>\n",
              "      <td>0.0</td>\n",
              "      <td>1.0</td>\n",
              "      <td>0.0</td>\n",
              "      <td>1.0</td>\n",
              "      <td>0.0</td>\n",
              "      <td>0.0</td>\n",
              "      <td>1.0</td>\n",
              "      <td>0.0</td>\n",
              "      <td>0.0</td>\n",
              "      <td>1.0</td>\n",
              "      <td>0.0</td>\n",
              "      <td>0.0</td>\n",
              "      <td>1.0</td>\n",
              "      <td>0.0</td>\n",
              "      <td>1.0</td>\n",
              "      <td>0.0</td>\n",
              "      <td>1.0</td>\n",
              "      <td>0.0</td>\n",
              "    </tr>\n",
              "    <tr>\n",
              "      <th>4</th>\n",
              "      <td>16</td>\n",
              "      <td>3</td>\n",
              "      <td>3</td>\n",
              "      <td>1</td>\n",
              "      <td>2</td>\n",
              "      <td>0</td>\n",
              "      <td>4</td>\n",
              "      <td>3</td>\n",
              "      <td>2</td>\n",
              "      <td>1</td>\n",
              "      <td>2</td>\n",
              "      <td>0.0</td>\n",
              "      <td>4</td>\n",
              "      <td>6</td>\n",
              "      <td>10</td>\n",
              "      <td>10</td>\n",
              "      <td>1.0</td>\n",
              "      <td>0.0</td>\n",
              "      <td>1.0</td>\n",
              "      <td>0.0</td>\n",
              "      <td>1.0</td>\n",
              "      <td>0.0</td>\n",
              "      <td>1.0</td>\n",
              "      <td>0.0</td>\n",
              "      <td>0.0</td>\n",
              "      <td>1.0</td>\n",
              "      <td>0.0</td>\n",
              "      <td>0.0</td>\n",
              "      <td>0.0</td>\n",
              "      <td>0.0</td>\n",
              "      <td>0.0</td>\n",
              "      <td>1.0</td>\n",
              "      <td>0.0</td>\n",
              "      <td>0.0</td>\n",
              "      <td>1.0</td>\n",
              "      <td>0.0</td>\n",
              "      <td>1.0</td>\n",
              "    </tr>\n",
              "  </tbody>\n",
              "</table>\n",
              "</div>"
            ],
            "text/plain": [
              "   age  Medu  Fedu  traveltime  studytime  ...  reputation  mother  father  yes   no\n",
              "0   18     4     4           2          2  ...         0.0     1.0     0.0  0.0  1.0\n",
              "1   17     1     1           1          2  ...         0.0     0.0     1.0  0.0  1.0\n",
              "2   15     1     1           1          2  ...         0.0     1.0     0.0  0.0  1.0\n",
              "3   15     4     2           1          3  ...         0.0     1.0     0.0  1.0  0.0\n",
              "4   16     3     3           1          2  ...         0.0     0.0     1.0  0.0  1.0\n",
              "\n",
              "[5 rows x 37 columns]"
            ]
          },
          "metadata": {
            "tags": []
          },
          "execution_count": 3
        }
      ]
    },
    {
      "cell_type": "markdown",
      "metadata": {
        "id": "DWUDJVEuJvJ5"
      },
      "source": [
        "## Q2 Train Test Split\n",
        "Next, the data must be split into \"training data\" and \"test data.\" Do so with df.sample(), splitting the data into 80% training and 20% test data sets. "
      ]
    },
    {
      "cell_type": "code",
      "metadata": {
        "id": "IA59GdHWAk-R"
      },
      "source": [
        "#TODO\n",
        "students_copy = students.copy()\n",
        "training = students_copy.sample(frac=.8, random_state=0)\n",
        "test = students_copy.drop(training.index)"
      ],
      "execution_count": 4,
      "outputs": []
    },
    {
      "cell_type": "markdown",
      "metadata": {
        "id": "ZSGAi8wUrfwo"
      },
      "source": [
        "\n",
        "Next,  the data must be split into *X* and *Y* values, both for the training and test data sets. In this case the Y values are the columns \"G1\", \"G2\", and \"G3\" and the X values are all other columns. Then, the pandas dataframes must be converted into numpy arrays so they can be manipulated with linear algebra. \n",
        "\n",
        "\n"
      ]
    },
    {
      "cell_type": "code",
      "metadata": {
        "id": "TaRWqQRbre9i"
      },
      "source": [
        "#TODO\n",
        "\n",
        "X_train = training.drop(columns=[\"G1\", \"G2\", \"G3\"])\n",
        "X_test = test.drop(columns=[\"G1\", \"G2\", \"G3\"])\n",
        "y_train = training[['G1', 'G2', 'G3']]\n",
        "y_test = test[[\"G1\", \"G2\", \"G3\"]]\n",
        "\n",
        "#END TODO\n",
        "\n",
        "X_train_np = X_train.to_numpy()\n",
        "X_test_np = X_test.to_numpy()\n",
        "y_train_np = y_train.to_numpy()\n",
        "y_test_np = y_test.to_numpy()"
      ],
      "execution_count": 5,
      "outputs": []
    },
    {
      "cell_type": "markdown",
      "metadata": {
        "id": "_WsTxM6EblCf"
      },
      "source": [
        "Run this cell as a sanity check, it ensures that the numpy arrays you have created are of the right shape and only contain numerical values."
      ]
    },
    {
      "cell_type": "code",
      "metadata": {
        "id": "yG2SNXQdHQLc",
        "colab": {
          "base_uri": "https://localhost:8080/"
        },
        "outputId": "8f63a470-c388-4899-c7a7-f2342c08c5a3"
      },
      "source": [
        "assert(X_train_np.shape == (286, 34))\n",
        "assert(not np.isnan(X_train_np).any())\n",
        "assert(X_test_np.shape == (71, 34) )\n",
        "assert(not np.isnan(X_test_np).any())\n",
        "assert(y_train_np.shape == (286, 3))\n",
        "assert(not np.isnan(y_train_np).any())\n",
        "assert(y_test_np.shape == (71, 3))\n",
        "assert(not np.isnan(y_test_np).any())\n",
        "print(\"Success!\")"
      ],
      "execution_count": 6,
      "outputs": [
        {
          "output_type": "stream",
          "text": [
            "Success!\n"
          ],
          "name": "stdout"
        }
      ]
    },
    {
      "cell_type": "markdown",
      "metadata": {
        "id": "nmADPRPo0US5"
      },
      "source": [
        "## Q3 Single Neuron\n",
        "Now you are going to implement your first neural network. A neural network is a collection of neurons, but you are going to start by implementing a single neuron. This neuron must have randomly generated weights that it applies to the numpy array of inputs to generate a single numerical output, as well as a relu nonlinearity function. The weights should be generated with np.random.rand(len(np_array_of_inputs)) and the seed should be set to 10."
      ]
    },
    {
      "cell_type": "code",
      "metadata": {
        "id": "kUV0UnSL0TlL"
      },
      "source": [
        "def single_neuron(np_array_of_inputs, seed=10):\n",
        "  #TODO\n",
        "  np.random.seed(seed=seed)\n",
        "  weights = np.random.rand(len(np_array_of_inputs))\n",
        "  result = np_array_of_inputs @ weights\n",
        "  if result >= 0:\n",
        "    return result\n",
        "\n",
        "  #END TODO\n",
        "  return 0\n",
        "\n",
        "assert(single_neuron(X_train_np[0,:]) == 24.89683109941306)\n",
        "\n"
      ],
      "execution_count": 7,
      "outputs": []
    },
    {
      "cell_type": "markdown",
      "metadata": {
        "id": "ORTtZq4B4d6C"
      },
      "source": [
        "## Q4 Linking Neurons\n",
        "Now that you have a function that acts as a single neuron, try linking that neuron together with more neurons! Fill in the function regression one_layer_network() that links together 100 neurons into a one layer network.\n"
      ]
    },
    {
      "cell_type": "code",
      "metadata": {
        "id": "ZplIWtKA5osg",
        "colab": {
          "base_uri": "https://localhost:8080/"
        },
        "outputId": "464cda06-2fbc-4331-a5c2-2e249434383e"
      },
      "source": [
        "def one_layer_network(np_array_of_inputs):\n",
        "#TODO\n",
        " return np.mean([single_neuron(np_array_of_inputs, seed) for seed in range(100)])\n",
        "#END TODO\n",
        "\n",
        "one_layer_network(X_train_np[0,:])"
      ],
      "execution_count": 8,
      "outputs": [
        {
          "output_type": "execute_result",
          "data": {
            "text/plain": [
              "21.883430076874898"
            ]
          },
          "metadata": {
            "tags": []
          },
          "execution_count": 8
        }
      ]
    },
    {
      "cell_type": "markdown",
      "metadata": {
        "id": "T128-F8b97ab"
      },
      "source": [
        "## Q5 Multi Layer Network\n",
        "Now that you have a network with one layer, try linking together three layers into a larger network. Again, this network will not be able to accurately estimate the y values of its inputs as we are not training the network."
      ]
    },
    {
      "cell_type": "code",
      "metadata": {
        "colab": {
          "base_uri": "https://localhost:8080/"
        },
        "id": "1Ng3_OZ997GC",
        "outputId": "09f22ab3-1490-44e6-a0a0-851cba876ac7"
      },
      "source": [
        "def n_layer_network(np_array_of_inputs, n=3):\n",
        "  #TODO\n",
        "  layer = np.array([single_neuron(np_array_of_inputs, seed) for seed in range(100)])\n",
        "  for i in range(n-1):\n",
        "    layer = np.array([single_neuron(layer, seed) for seed in range(100)])\n",
        "  #END TODO\n",
        "  return np.mean(layer)\n",
        "\n",
        "n_layer_network(X_train_np[0,:], 3)"
      ],
      "execution_count": 9,
      "outputs": [
        {
          "output_type": "execute_result",
          "data": {
            "text/plain": [
              "53630.49684973486"
            ]
          },
          "metadata": {
            "tags": []
          },
          "execution_count": 9
        }
      ]
    },
    {
      "cell_type": "markdown",
      "metadata": {
        "id": "lbun1vYF55qS"
      },
      "source": [
        "## Q5 Package: sklearn and Classification\n"
      ]
    },
    {
      "cell_type": "markdown",
      "metadata": {
        "id": "nDoFefaKfsOF"
      },
      "source": [
        "The first network from a package you are going to implement is a basic network for classification. Implement the MLP classifier specified at \n",
        "\n",
        "https://scikit-learn.org/stable/modules/generated/sklearn.neural_network.MLPClassifier.html#sklearn.neural_network.MLPClassifier\n",
        "\n",
        "Currently, the y values of the dataset are numerical and in three columns. However, we want to be able to make binary classifications about the students, so convert y_train and y_test into 1x(N\\*0.8) and 1x(N\\*.2) numpy vectors. Create a classifier with two hidden layers of size 100 each that predicts if a student's G3 grade is above or below the average G3 grade (for the whole dataset). Report the percent classification accuracy on the training and test datasets. \n",
        "\n"
      ]
    },
    {
      "cell_type": "code",
      "metadata": {
        "colab": {
          "base_uri": "https://localhost:8080/"
        },
        "id": "mX_tyLz9cMay",
        "outputId": "7046e660-1415-409c-dcad-6fe5b2334c97"
      },
      "source": [
        "from sklearn.neural_network import MLPClassifier\n",
        "\n",
        "\n",
        "#TODO\n",
        "\n",
        "classifier = MLPClassifier(random_state=1, max_iter=30, activation='relu', hidden_layer_sizes=(100, 100))\n",
        "mean_score = (y_train_np[:,2].sum() + y_test_np[:,2].sum()) / (y_train_np[:,2].shape[0] + y_test_np[:,2].shape[0])\n",
        "y_train_class = (y_train_np[:,2] > mean_score).astype(int)\n",
        "y_test_class = (y_test_np[:,2] > mean_score).astype(int)\n",
        "classifier.fit(X_train_np, y_train_class)\n",
        "\n",
        "#END TODO\n",
        "\n",
        "\n",
        "print(\"test accuracy is\", np.mean(classifier.predict(X_test_np) == y_test_class))\n",
        "print(\"train accuracy is\", np.mean(classifier.predict(X_train_np) == y_train_class))\n"
      ],
      "execution_count": 10,
      "outputs": [
        {
          "output_type": "stream",
          "text": [
            "test accuracy is 0.6056338028169014\n",
            "train accuracy is 0.7167832167832168\n"
          ],
          "name": "stdout"
        },
        {
          "output_type": "stream",
          "text": [
            "/usr/local/lib/python3.6/dist-packages/sklearn/neural_network/_multilayer_perceptron.py:571: ConvergenceWarning: Stochastic Optimizer: Maximum iterations (30) reached and the optimization hasn't converged yet.\n",
            "  % self.max_iter, ConvergenceWarning)\n"
          ],
          "name": "stderr"
        }
      ]
    },
    {
      "cell_type": "markdown",
      "metadata": {
        "id": "xdHkQoXDF8Q1"
      },
      "source": [
        "## Q6 Iterations vs Accuracy\n",
        "Now, we're going to investigate the effect of the number of iterations on the training and test accuracy. In increments of two, plot the train and test accuracy vs the number of iterations, between one and five hundred iterations. Label the axes and provide a key."
      ]
    },
    {
      "cell_type": "code",
      "metadata": {
        "id": "LfFkQU4UfrpH",
        "colab": {
          "base_uri": "https://localhost:8080/",
          "height": 366
        },
        "outputId": "f2289f87-ff6e-421d-816f-f2466d4c0241"
      },
      "source": [
        "from matplotlib import pyplot as plt\n",
        "%matplotlib inline\n",
        "\n",
        "from sklearn.utils.testing import ignore_warnings\n",
        "from sklearn.exceptions import ConvergenceWarning\n",
        "\n",
        "@ignore_warnings(category=ConvergenceWarning)\n",
        "def report_training_and_test_accuracy(max_iter):\n",
        "  classifier = MLPClassifier(random_state=1, max_iter=max_iter, activation='relu', hidden_layer_sizes=(100, 100))\n",
        "  mean_score = (y_train_np[:,2].sum() + y_test_np[:,2].sum()) / (y_train_np[:,2].shape[0] + y_test_np[:,2].shape[0])\n",
        "  y_train_class = (y_train_np[:,2] > mean_score).astype(int)\n",
        "  y_test_class = (y_test_np[:,2] > mean_score).astype(int)\n",
        "  classifier.fit(X_train_np, y_train_class)\n",
        "  return np.mean(classifier.predict(X_test_np) == y_test_class), np.mean(classifier.predict(X_train_np) == y_train_class)\n",
        "\n",
        "xs = np.arange(1, 200, 3)\n",
        "accuracy = [report_training_and_test_accuracy(x) for x in xs]\n",
        "ys_test = [index[0] for index in accuracy]\n",
        "ys_train = [index[1] for index in accuracy]\n",
        "\n",
        "import warnings\n",
        "warnings.filterwarnings(\"ignore\")\n",
        "\n",
        "plt.plot(xs, ys_test, label=\"Test Accuracy\")\n",
        "plt.plot(xs, ys_train, label=\"Train Accuracy\")\n",
        "plt.xlabel(\"Number of iterations\")\n",
        "plt.ylabel(\"Fraction of data classified correctly\")\n",
        "plt.title(\"Number of Iterations vs Fraction of Data Classified Correctly\")\n",
        "plt.legend()"
      ],
      "execution_count": 11,
      "outputs": [
        {
          "output_type": "stream",
          "text": [
            "/usr/local/lib/python3.6/dist-packages/sklearn/utils/deprecation.py:144: FutureWarning: The sklearn.utils.testing module is  deprecated in version 0.22 and will be removed in version 0.24. The corresponding classes / functions should instead be imported from sklearn.utils. Anything that cannot be imported from sklearn.utils is now part of the private API.\n",
            "  warnings.warn(message, FutureWarning)\n"
          ],
          "name": "stderr"
        },
        {
          "output_type": "execute_result",
          "data": {
            "text/plain": [
              "<matplotlib.legend.Legend at 0x7fa30a3c19b0>"
            ]
          },
          "metadata": {
            "tags": []
          },
          "execution_count": 11
        },
        {
          "output_type": "display_data",
          "data": {
            "image/png": "[encoded data removed]",
            "text/plain": [
              "<Figure size 432x288 with 1 Axes>"
            ]
          },
          "metadata": {
            "tags": [],
            "needs_background": "light"
          }
        }
      ]
    },
    {
      "cell_type": "markdown",
      "metadata": {
        "id": "5JXb8ByTNKcE"
      },
      "source": [
        "## Q7 Package: sklearn and Regression\n",
        "\n",
        "Now you will implement a MLP that performs regression rather than classification. Create numpy arrays y_train_regress and y_test_regress, being 1x(N\\*0.8) and 1x(N\\*.2) numpy vectors of the student's G3 grade, then use the MLP regressor specified at\n",
        "\n",
        "https://scikit-learn.org/stable/modules/generated/sklearn.neural_network.MLPRegressor.html#sklearn.neural_network.MLPRegressor\n",
        "\n",
        "to train the network to predict student's scores. Report the error on the training and test datasets. "
      ]
    },
    {
      "cell_type": "code",
      "metadata": {
        "colab": {
          "base_uri": "https://localhost:8080/",
          "height": 346
        },
        "id": "fRUbc48TH9Hd",
        "outputId": "d249cccb-1997-467c-ba83-1c16b0bbd04e"
      },
      "source": [
        "from sklearn.neural_network import MLPRegressor\n",
        "\n",
        "\n",
        "#TODO\n",
        "y_train_regress = y_train_np[:,2]\n",
        "y_test_regress = y_test_np[:,2]\n",
        "regressor = MLPRegressor(random_state=1, max_iter=300).fit(X_train_np, y_train_regress)\n",
        "\n",
        "print(\"test squared error is\", ((regressor.predict(X_test_np) - y_test_regress)**2).mean())\n",
        "print(\"train squared error is\", ((regressor.predict(X_train_np) - y_train_regress)**2).mean())\n",
        "\n",
        "plt.scatter(y_test_regress, regressor.predict(X_test_np))\n",
        "plt.title(\"Students' actual grades vs MLP-predicted students grades\")\n",
        "plt.xlabel(\"Students' grades\")\n",
        "plt.ylabel(\"Students' MLP-predicted grades\")"
      ],
      "execution_count": 12,
      "outputs": [
        {
          "output_type": "stream",
          "text": [
            "test squared error is 8.400111194123003\n",
            "train squared error is 7.48857390779203\n"
          ],
          "name": "stdout"
        },
        {
          "output_type": "execute_result",
          "data": {
            "text/plain": [
              "Text(0, 0.5, \"Students' MLP-predicted grades\")"
            ]
          },
          "metadata": {
            "tags": []
          },
          "execution_count": 12
        },
        {
          "output_type": "display_data",
          "data": {
            "image/png": "[encoded data removed]",
            "text/plain": [
              "<Figure size 432x288 with 1 Axes>"
            ]
          },
          "metadata": {
            "tags": [],
            "needs_background": "light"
          }
        }
      ]
    },
    {
      "cell_type": "code",
      "metadata": {
        "id": "UFQjFqa4Pnao"
      },
      "source": [
        ""
      ],
      "execution_count": 12,
      "outputs": []
    }
  ]
}